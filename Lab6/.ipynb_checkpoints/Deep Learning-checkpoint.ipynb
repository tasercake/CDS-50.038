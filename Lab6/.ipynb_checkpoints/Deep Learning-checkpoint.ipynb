{
 "cells": [
  {
   "cell_type": "code",
   "execution_count": 14,
   "metadata": {},
   "outputs": [],
   "source": [
    "def rabbit(rocks, max_jump=50):\n",
    "    last_dist = 0\n",
    "    jumps = 0\n",
    "    for i in range(len(rocks)):\n",
    "        if rocks[i] - last_dist < max_jump:\n",
    "            print(\"Skipped\", rocks[i])\n",
    "            continue  # Skip this rock\n",
    "        print(\"Landed on\", rocks[i])\n",
    "        last_dist = rocks[i]\n",
    "        jumps += 1\n",
    "    jumps += 1\n",
    "    return jumps\n"
   ]
  },
  {
   "cell_type": "code",
   "execution_count": 15,
   "metadata": {},
   "outputs": [
    {
     "name": "stdout",
     "output_type": "stream",
     "text": [
      "Skipped 10\n",
      "Skipped 20\n",
      "Skipped 30\n",
      "Skipped 40\n",
      "Landed on 50\n",
      "Skipped 60\n",
      "Skipped 70\n"
     ]
    },
    {
     "data": {
      "text/plain": [
       "2"
      ]
     },
     "execution_count": 15,
     "metadata": {},
     "output_type": "execute_result"
    }
   ],
   "source": [
    "rocks = [10, 20, 30, 40, 50, 60, 70]\n",
    "rabbit(rocks)"
   ]
  },
  {
   "cell_type": "code",
   "execution_count": null,
   "metadata": {},
   "outputs": [],
   "source": []
  }
 ],
 "metadata": {
  "kernelspec": {
   "display_name": "Python 3",
   "language": "python",
   "name": "python3"
  },
  "language_info": {
   "codemirror_mode": {
    "name": "ipython",
    "version": 3
   },
   "file_extension": ".py",
   "mimetype": "text/x-python",
   "name": "python",
   "nbconvert_exporter": "python",
   "pygments_lexer": "ipython3",
   "version": "3.7.4"
  }
 },
 "nbformat": 4,
 "nbformat_minor": 2
}
